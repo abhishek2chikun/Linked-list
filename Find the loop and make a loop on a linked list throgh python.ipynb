{
 "cells": [
  {
   "cell_type": "markdown",
   "metadata": {},
   "source": [
    "# Find the loop"
   ]
  },
  {
   "cell_type": "code",
   "execution_count": 1,
   "metadata": {},
   "outputs": [],
   "source": [
    "class node:\n",
    "    def __init__(self,val=None,Next=None):\n",
    "        self.data=val\n",
    "        self.next=Next\n",
    "    def printlist(self):\n",
    "        node=self\n",
    "        while(node!=None):\n",
    "            print(node.data,end=\"->\")\n",
    "            node=node.next"
   ]
  },
  {
   "cell_type": "code",
   "execution_count": 2,
   "metadata": {},
   "outputs": [],
   "source": [
    "def push(head,data):\n",
    "    head=node(data,head)\n",
    "    return head"
   ]
  },
  {
   "cell_type": "code",
   "execution_count": 3,
   "metadata": {},
   "outputs": [
    {
     "name": "stdout",
     "output_type": "stream",
     "text": [
      "0->1->2->3->4->5->6->7->8->"
     ]
    }
   ],
   "source": [
    "head=None\n",
    "for i in range(9)[::-1]:\n",
    "    head=push(head,i)\n",
    "head.printlist()"
   ]
  },
  {
   "cell_type": "markdown",
   "metadata": {},
   "source": [
    "## To create a loop from linked list"
   ]
  },
  {
   "cell_type": "code",
   "execution_count": 4,
   "metadata": {},
   "outputs": [],
   "source": [
    "def loop(head,k):\n",
    "    temp=head\n",
    "    count=1\n",
    "    while(count<k):\n",
    "        temp=temp.next\n",
    "        count=count+1\n",
    "    joint=temp\n",
    "    while(temp.next!=None):\n",
    "        temp=temp.next\n",
    "    temp.next=joint\n",
    "    return head"
   ]
  },
  {
   "cell_type": "markdown",
   "metadata": {},
   "source": [
    "### To print the loop linked list"
   ]
  },
  {
   "cell_type": "code",
   "execution_count": 5,
   "metadata": {},
   "outputs": [],
   "source": [
    "def printloop(head,count):\n",
    "    c=0\n",
    "    temp=head\n",
    "    while(c<count):\n",
    "        print(temp.data,end=\"->\")\n",
    "        c+=1\n",
    "        temp=temp.next\n",
    "    print(\"last connected node\",temp.data)"
   ]
  },
  {
   "cell_type": "code",
   "execution_count": 6,
   "metadata": {},
   "outputs": [],
   "source": [
    "def countnode(head):\n",
    "    count=0\n",
    "    while(head!=None):\n",
    "        head=head.next\n",
    "        count+=1\n",
    "    return count"
   ]
  },
  {
   "cell_type": "code",
   "execution_count": 7,
   "metadata": {},
   "outputs": [],
   "source": [
    "cc=countnode(head)"
   ]
  },
  {
   "cell_type": "code",
   "execution_count": 8,
   "metadata": {},
   "outputs": [],
   "source": [
    "k=5\n",
    "head=loop(head,k)"
   ]
  },
  {
   "cell_type": "code",
   "execution_count": 9,
   "metadata": {},
   "outputs": [
    {
     "name": "stdout",
     "output_type": "stream",
     "text": [
      "0->1->2->3->4->5->6->7->8->last connected node 4\n"
     ]
    }
   ],
   "source": [
    "printloop(head,cc)"
   ]
  },
  {
   "cell_type": "markdown",
   "metadata": {},
   "source": [
    "## Function to find the loop"
   ]
  },
  {
   "cell_type": "code",
   "execution_count": 12,
   "metadata": {},
   "outputs": [],
   "source": [
    "def findloop(head):\n",
    "    f=head.next\n",
    "    s=head.next.next\n",
    "    while(f!=s):\n",
    "        f=f.next\n",
    "        s=s.next.next\n",
    "    f=head\n",
    "    while(f!=s):\n",
    "        f=f.next\n",
    "        s=s.next\n",
    "    print(f.data)"
   ]
  },
  {
   "cell_type": "code",
   "execution_count": 13,
   "metadata": {},
   "outputs": [
    {
     "name": "stdout",
     "output_type": "stream",
     "text": [
      "4\n"
     ]
    }
   ],
   "source": [
    "findloop(head)"
   ]
  }
 ],
 "metadata": {
  "kernelspec": {
   "display_name": "Python 3",
   "language": "python",
   "name": "python3"
  },
  "language_info": {
   "codemirror_mode": {
    "name": "ipython",
    "version": 3
   },
   "file_extension": ".py",
   "mimetype": "text/x-python",
   "name": "python",
   "nbconvert_exporter": "python",
   "pygments_lexer": "ipython3",
   "version": "3.7.3"
  }
 },
 "nbformat": 4,
 "nbformat_minor": 2
}
