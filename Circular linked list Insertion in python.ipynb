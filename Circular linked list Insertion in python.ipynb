{
 "cells": [
  {
   "cell_type": "markdown",
   "metadata": {},
   "source": [
    "# Circular Linked List"
   ]
  },
  {
   "cell_type": "code",
   "execution_count": 1,
   "metadata": {},
   "outputs": [],
   "source": [
    "class Node:\n",
    "    def __init__(self,val=None,Next=None):\n",
    "        self.data=val\n",
    "        self.next=Next\n",
    "    def printlist(self):\n",
    "        temp=self\n",
    "        print(\"First Node address:\",temp)\n",
    "        if temp is not Node:\n",
    "            while(True):\n",
    "                print(temp.data,end=\"->\")\n",
    "                temp=temp.next\n",
    "                if(temp==self):\n",
    "                    print(\"\\nLast node next address:\",temp)\n",
    "                    break"
   ]
  },
  {
   "cell_type": "markdown",
   "metadata": {},
   "source": [
    "### Push operation on circular Linked List"
   ]
  },
  {
   "cell_type": "code",
   "execution_count": 2,
   "metadata": {},
   "outputs": [],
   "source": [
    "def push(head,data):\n",
    "        new_node=Node(data)\n",
    "        temp=head\n",
    "        new_node.next=head\n",
    "        if head is not None:\n",
    "            while(temp.next!=head):\n",
    "                temp=temp.next\n",
    "            temp.next=new_node\n",
    "        else:\n",
    "            new_node.next=new_node\n",
    "        head=new_node\n",
    "        return head"
   ]
  },
  {
   "cell_type": "code",
   "execution_count": 3,
   "metadata": {},
   "outputs": [
    {
     "name": "stdout",
     "output_type": "stream",
     "text": [
      "First Node address: <__main__.Node object at 0x000000A8F9111EF0>\n",
      "0->1->2->3->4->5->6->7->8->9->\n",
      "Last node next address: <__main__.Node object at 0x000000A8F9111EF0>\n"
     ]
    }
   ],
   "source": [
    "head=None\n",
    "for i in range(10)[::-1]:\n",
    "    head=push(head,i)\n",
    "head.printlist()"
   ]
  },
  {
   "cell_type": "markdown",
   "metadata": {},
   "source": [
    "### Insertion at Beginning"
   ]
  },
  {
   "cell_type": "code",
   "execution_count": 4,
   "metadata": {},
   "outputs": [],
   "source": [
    "def insertatBeg(head,data):\n",
    "    new_node=Node(data)\n",
    "    temp=head\n",
    "    new_node.next=head\n",
    "    if head is not None:\n",
    "        while(temp.next!=head):\n",
    "            temp=temp.next\n",
    "        temp.next=new_node\n",
    "    else:\n",
    "        new_node.next=new_node\n",
    "    head=new_node       \n",
    "    return head"
   ]
  },
  {
   "cell_type": "code",
   "execution_count": 5,
   "metadata": {},
   "outputs": [
    {
     "name": "stdout",
     "output_type": "stream",
     "text": [
      "First Node address: <__main__.Node object at 0x000000A8F9120128>\n",
      "100->0->1->2->3->4->5->6->7->8->9->\n",
      "Last node next address: <__main__.Node object at 0x000000A8F9120128>\n"
     ]
    }
   ],
   "source": [
    "head=insertatBeg(head,100)\n",
    "head.printlist()"
   ]
  },
  {
   "cell_type": "markdown",
   "metadata": {},
   "source": [
    "### Insertion at end"
   ]
  },
  {
   "cell_type": "code",
   "execution_count": 6,
   "metadata": {},
   "outputs": [],
   "source": [
    "def insertatend(head,data):\n",
    "    new_node=Node(data)\n",
    "    temp=head\n",
    "    new_node.next=head\n",
    "    if head is not None:\n",
    "        while(temp.next!=head):\n",
    "            temp=temp.next\n",
    "        temp.next=new_node\n",
    "    else:\n",
    "        new_node.next=new_node\n",
    "    head=new_node.next\n",
    "    return head"
   ]
  },
  {
   "cell_type": "code",
   "execution_count": 7,
   "metadata": {},
   "outputs": [
    {
     "name": "stdout",
     "output_type": "stream",
     "text": [
      "First Node address: <__main__.Node object at 0x000000A8F9120128>\n",
      "100->0->1->2->3->4->5->6->7->8->9->200->\n",
      "Last node next address: <__main__.Node object at 0x000000A8F9120128>\n"
     ]
    }
   ],
   "source": [
    "head=insertatend(head,200)\n",
    "head.printlist()"
   ]
  },
  {
   "cell_type": "markdown",
   "metadata": {},
   "source": [
    "### Insertion at postion"
   ]
  },
  {
   "cell_type": "code",
   "execution_count": 8,
   "metadata": {},
   "outputs": [],
   "source": [
    "def insertatpos(head,k,data):\n",
    "    new_node=Node(data)\n",
    "    temp=head\n",
    "    c=1\n",
    "    if k==0:\n",
    "        return insertatBeg(head,data)\n",
    "    while temp.next!=head:\n",
    "        if(c<k):\n",
    "            c+=1\n",
    "        else:\n",
    "            break\n",
    "        temp=temp.next\n",
    "    if temp.next==head:\n",
    "        return insertatend(head,data)\n",
    "    new_node.next=temp.next\n",
    "    temp.next=new_node    \n",
    "    return head"
   ]
  },
  {
   "cell_type": "code",
   "execution_count": 9,
   "metadata": {},
   "outputs": [
    {
     "name": "stdout",
     "output_type": "stream",
     "text": [
      "First Node address: <__main__.Node object at 0x000000A8F9120128>\n",
      "100->0->1->2->3->500->4->5->6->7->8->9->200->\n",
      "Last node next address: <__main__.Node object at 0x000000A8F9120128>\n"
     ]
    }
   ],
   "source": [
    "head=insertatpos(head,5,500)#Insert at position\n",
    "head.printlist()"
   ]
  },
  {
   "cell_type": "code",
   "execution_count": 10,
   "metadata": {},
   "outputs": [
    {
     "name": "stdout",
     "output_type": "stream",
     "text": [
      "First Node address: <__main__.Node object at 0x000000A8F9120630>\n",
      "800->100->0->1->2->3->500->4->5->6->7->8->9->200->\n",
      "Last node next address: <__main__.Node object at 0x000000A8F9120630>\n"
     ]
    }
   ],
   "source": [
    "head=insertatpos(head,0,800)#Insert at beginning\n",
    "head.printlist()"
   ]
  },
  {
   "cell_type": "code",
   "execution_count": 12,
   "metadata": {},
   "outputs": [
    {
     "name": "stdout",
     "output_type": "stream",
     "text": [
      "First Node address: <__main__.Node object at 0x000000A8F9120630>\n",
      "800->100->0->1->2->3->500->4->5->6->7->8->9->200->1000->\n",
      "Last node next address: <__main__.Node object at 0x000000A8F9120630>\n"
     ]
    }
   ],
   "source": [
    "head=insertatpos(head,14,1000)#Insert at last\n",
    "head.printlist()"
   ]
  }
 ],
 "metadata": {
  "kernelspec": {
   "display_name": "Python 3",
   "language": "python",
   "name": "python3"
  },
  "language_info": {
   "codemirror_mode": {
    "name": "ipython",
    "version": 3
   },
   "file_extension": ".py",
   "mimetype": "text/x-python",
   "name": "python",
   "nbconvert_exporter": "python",
   "pygments_lexer": "ipython3",
   "version": "3.7.3"
  }
 },
 "nbformat": 4,
 "nbformat_minor": 2
}
