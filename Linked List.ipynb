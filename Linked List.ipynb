{
 "cells": [
  {
   "cell_type": "markdown",
   "metadata": {},
   "source": [
    "# Linked List"
   ]
  },
  {
   "cell_type": "markdown",
   "metadata": {},
   "source": [
    "### Creation of Node class and Linked List class\n"
   ]
  },
  {
   "cell_type": "code",
   "execution_count": 5,
   "metadata": {},
   "outputs": [],
   "source": [
    "# Node class \n",
    "class Node:    \n",
    "    # Function to initialize the node object \n",
    "    def __init__(self, data): \n",
    "        self.data = data  # Assign data \n",
    "        self.next = None  # Initialize  \n",
    "                          # next as null \n",
    "   \n",
    "# Linked List class \n",
    "class LinkedList: \n",
    "     \n",
    "    # Function to initialize the Linked  \n",
    "    # List object \n",
    "    def __init__(self):  \n",
    "        self.head = None\n",
    "    # This function prints contents of linked list \n",
    "    # starting from head \n",
    "    def printList(self): \n",
    "        temp = self.head \n",
    "        while (temp): \n",
    "            print (temp.data) \n",
    "            temp = temp.next"
   ]
  },
  {
   "cell_type": "markdown",
   "metadata": {},
   "source": [
    "### Create a simple linked list with 3 nodes."
   ]
  },
  {
   "cell_type": "code",
   "execution_count": 7,
   "metadata": {},
   "outputs": [],
   "source": [
    "llist = LinkedList()\n",
    "\n",
    "# Assign item values\n",
    "llist.head = Node(1)\n",
    "second = Node(2)\n",
    "third = Node(3)"
   ]
  },
  {
   "cell_type": "markdown",
   "metadata": {},
   "source": [
    "### ''' \n",
    "    Three nodes have been created. \n",
    "    We have references to these three blocks as head, \n",
    "    second and third \n",
    "  \n",
    "    llist.head        second              third \n",
    "         |                |                  | \n",
    "         |                |                  | \n",
    "    +----+------+     +----+------+     +----+------+ \n",
    "    | 1  | None |     | 2  | None |     |  3 | None | \n",
    "    +----+------+     +----+------+     +----+------+ \n",
    "'''"
   ]
  },
  {
   "cell_type": "code",
   "execution_count": 8,
   "metadata": {},
   "outputs": [],
   "source": [
    "# Connect nodes\n",
    "linked_list.head.next = second"
   ]
  },
  {
   "cell_type": "markdown",
   "metadata": {},
   "source": [
    "### ''' \n",
    "    Now next of first Node refers to second.  So they \n",
    "    both are linked. \n",
    "  \n",
    "    llist.head        second              third \n",
    "         |                |                  | \n",
    "         |                |                  | \n",
    "    +----+------+     +----+------+     +----+------+ \n",
    "    | 1  |  o-------->| 2  | null |     |  3 | null | \n",
    "    +----+------+     +----+------+     +----+------+  \n",
    "    '''"
   ]
  },
  {
   "cell_type": "code",
   "execution_count": 9,
   "metadata": {},
   "outputs": [],
   "source": [
    "second.next = third"
   ]
  },
  {
   "cell_type": "markdown",
   "metadata": {},
   "source": [
    "### ''' \n",
    "    Now next of second Node refers to third.  So all three \n",
    "    nodes are linked. \n",
    "  \n",
    "    llist.head        second              third \n",
    "         |                |                  | \n",
    "         |                |                  | \n",
    "    +----+------+     +----+------+     +----+------+ \n",
    "    | 1  |  o-------->| 2  |  o-------->|  3 | null | \n",
    "    +----+------+     +----+------+     +----+------+  \n",
    "    '''"
   ]
  },
  {
   "cell_type": "code",
   "execution_count": 10,
   "metadata": {},
   "outputs": [
    {
     "name": "stdout",
     "output_type": "stream",
     "text": [
      "1\n",
      "2\n",
      "3\n"
     ]
    }
   ],
   "source": [
    "linked_list.printList()#For printing of linked_list"
   ]
  }
 ],
 "metadata": {
  "kernelspec": {
   "display_name": "Python 3",
   "language": "python",
   "name": "python3"
  },
  "language_info": {
   "codemirror_mode": {
    "name": "ipython",
    "version": 3
   },
   "file_extension": ".py",
   "mimetype": "text/x-python",
   "name": "python",
   "nbconvert_exporter": "python",
   "pygments_lexer": "ipython3",
   "version": "3.7.3"
  }
 },
 "nbformat": 4,
 "nbformat_minor": 2
}
