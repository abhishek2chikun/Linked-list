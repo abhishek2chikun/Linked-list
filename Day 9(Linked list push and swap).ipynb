{
 "cells": [
  {
   "cell_type": "code",
   "execution_count": 1,
   "metadata": {},
   "outputs": [],
   "source": [
    "class node:\n",
    "    def __init__(self,val=None,next1=None):\n",
    "        self.data=val\n",
    "        self.next=next1\n",
    "    def printlist(self):\n",
    "        temp=self\n",
    "        while(temp!=None):\n",
    "            print(temp.data,end=\"->\")\n",
    "            temp=temp.next"
   ]
  },
  {
   "cell_type": "markdown",
   "metadata": {},
   "source": [
    "### Push operation on linked list"
   ]
  },
  {
   "cell_type": "code",
   "execution_count": 2,
   "metadata": {},
   "outputs": [],
   "source": [
    "def push(head_ref,new_data):\n",
    "    head_ref=node(new_data,head_ref)\n",
    "    return head_ref"
   ]
  },
  {
   "cell_type": "code",
   "execution_count": 4,
   "metadata": {},
   "outputs": [
    {
     "name": "stdout",
     "output_type": "stream",
     "text": [
      "9->8->7->6->5->4->3->2->1->"
     ]
    }
   ],
   "source": [
    "start=None\n",
    "for i in range(1,10):\n",
    "    start=push(start,i)\n",
    "start.printlist()"
   ]
  },
  {
   "cell_type": "markdown",
   "metadata": {},
   "source": [
    "### Swapping on Linked list"
   ]
  },
  {
   "cell_type": "code",
   "execution_count": 6,
   "metadata": {},
   "outputs": [],
   "source": [
    "def swap(head_ref,x,y):\n",
    "    if x==y:\n",
    "        return None\n",
    "    a=0\n",
    "    b=0\n",
    "    head=head_ref\n",
    "    while((head_ref.next)!=None):\n",
    "        if((head_ref.next).data==x):\n",
    "            a=head_ref\n",
    "        elif((head_ref.next).data==y):\n",
    "            b=head_ref\n",
    "        head_ref=(head_ref.next)\n",
    "    if (a != None and b != None) : \n",
    "        temp = a.next\n",
    "        a.next = b.next\n",
    "        b.next = temp      \n",
    "        temp = a.next.next\n",
    "        a.next.next = b.next.next\n",
    "        b.next.next = temp  \n",
    "    return head"
   ]
  },
  {
   "cell_type": "code",
   "execution_count": 7,
   "metadata": {},
   "outputs": [
    {
     "name": "stdout",
     "output_type": "stream",
     "text": [
      "9->8->7->6->5->4->3->2->1->Before swapping None\n",
      "9->8->7->5->6->4->3->2->1->After swapping None\n"
     ]
    }
   ],
   "source": [
    "print(\"Before swapping\",start.printlist())\n",
    "start=swap(start,5,6)\n",
    "print(\"After swapping\",start.printlist())"
   ]
  }
 ],
 "metadata": {
  "kernelspec": {
   "display_name": "Python 3",
   "language": "python",
   "name": "python3"
  },
  "language_info": {
   "codemirror_mode": {
    "name": "ipython",
    "version": 3
   },
   "file_extension": ".py",
   "mimetype": "text/x-python",
   "name": "python",
   "nbconvert_exporter": "python",
   "pygments_lexer": "ipython3",
   "version": "3.7.3"
  }
 },
 "nbformat": 4,
 "nbformat_minor": 2
}
