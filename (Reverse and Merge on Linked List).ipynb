{
 "cells": [
  {
   "cell_type": "code",
   "execution_count": 1,
   "metadata": {},
   "outputs": [],
   "source": [
    "class node:\n",
    "    def __init__(self,val=None,Next=None):\n",
    "        self.data=val\n",
    "        self.next=Next\n",
    "    def printlist(self):\n",
    "        node=self\n",
    "        while(node!=None):\n",
    "            print(node.data,end=\"->\")\n",
    "            node=node.next"
   ]
  },
  {
   "cell_type": "code",
   "execution_count": 2,
   "metadata": {},
   "outputs": [],
   "source": [
    "def push(head_ref,new_node):\n",
    "    head_ref=node(new_node,head_ref)\n",
    "    return head_ref"
   ]
  },
  {
   "cell_type": "code",
   "execution_count": 3,
   "metadata": {},
   "outputs": [
    {
     "name": "stdout",
     "output_type": "stream",
     "text": [
      "9->8->7->6->5->4->3->2->1->0->"
     ]
    }
   ],
   "source": [
    "head=None\n",
    "for i in range(10):\n",
    "    head=push(head,i)\n",
    "head.printlist()"
   ]
  },
  {
   "cell_type": "markdown",
   "metadata": {},
   "source": [
    "## Reverse a Linked List"
   ]
  },
  {
   "cell_type": "code",
   "execution_count": 4,
   "metadata": {},
   "outputs": [],
   "source": [
    "def reverse(head_ref):\n",
    "    current=head_ref\n",
    "    prev = None\n",
    "    while(current is not None): \n",
    "        next = current.next\n",
    "        current.next = prev \n",
    "        prev = current \n",
    "        current = next\n",
    "    head_ref = prev \n",
    "    return head_ref"
   ]
  },
  {
   "cell_type": "code",
   "execution_count": 5,
   "metadata": {},
   "outputs": [],
   "source": [
    "head=reverse(head)"
   ]
  },
  {
   "cell_type": "code",
   "execution_count": 6,
   "metadata": {},
   "outputs": [
    {
     "name": "stdout",
     "output_type": "stream",
     "text": [
      "0->1->2->3->4->5->6->7->8->9->"
     ]
    }
   ],
   "source": [
    "head.printlist()"
   ]
  },
  {
   "cell_type": "markdown",
   "metadata": {},
   "source": [
    "## Merge two sorted linked list"
   ]
  },
  {
   "cell_type": "markdown",
   "metadata": {},
   "source": [
    "def merge(head1,head2):\n",
    "    temp=None\n",
    "    if head1 is None:\n",
    "        return head2\n",
    "    if head2 is None:\n",
    "        return head1\n",
    "    if head1.data<=head2.data:\n",
    "        temp=head1\n",
    "        temp.next=merge(head1.next,head2)\n",
    "    else:\n",
    "        temp=head2\n",
    "        temp.next=merge(head1,head2.next)\n",
    "    return temp"
   ]
  },
  {
   "cell_type": "code",
   "execution_count": 23,
   "metadata": {},
   "outputs": [
    {
     "name": "stdout",
     "output_type": "stream",
     "text": [
      "1->3->5->7->9->"
     ]
    }
   ],
   "source": [
    "head1=None\n",
    "for i in range(1,10,2)[::-1]:\n",
    "    head1=push(head1,i)\n",
    "head1.printlist()"
   ]
  },
  {
   "cell_type": "code",
   "execution_count": 25,
   "metadata": {},
   "outputs": [
    {
     "name": "stdout",
     "output_type": "stream",
     "text": [
      "2->4->6->8->"
     ]
    }
   ],
   "source": [
    "head2=None\n",
    "for j in range(2,10,2)[::-1]:\n",
    "    head2=push(head2,j)\n",
    "head2.printlist()"
   ]
  },
  {
   "cell_type": "code",
   "execution_count": 27,
   "metadata": {},
   "outputs": [
    {
     "name": "stdout",
     "output_type": "stream",
     "text": [
      "1->2->3->4->5->6->7->8->9->"
     ]
    }
   ],
   "source": [
    "head3=None\n",
    "head3=merge(head1,head2)\n",
    "head3.printlist()"
   ]
  }
 ],
 "metadata": {
  "kernelspec": {
   "display_name": "Python 3",
   "language": "python",
   "name": "python3"
  },
  "language_info": {
   "codemirror_mode": {
    "name": "ipython",
    "version": 3
   },
   "file_extension": ".py",
   "mimetype": "text/x-python",
   "name": "python",
   "nbconvert_exporter": "python",
   "pygments_lexer": "ipython3",
   "version": "3.7.3"
  }
 },
 "nbformat": 4,
 "nbformat_minor": 2
}
